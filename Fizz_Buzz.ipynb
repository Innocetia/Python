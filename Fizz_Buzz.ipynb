{
 "cells": [
  {
   "cell_type": "markdown",
   "id": "4df12353-0cdd-4fea-93de-c314ef065b99",
   "metadata": {},
   "source": [
    "Write a program that prints the numbers from 1 to 100. However:\n",
    "\n",
    "For multiples of 3, print \"Fizz\" instead of the number.\n",
    "For multiples of 5, print \"Buzz\" instead of the number.\n",
    "For numbers that are multiples of both 3 and 5, print \"FizzBuzz\".\n"
   ]
  },
  {
   "cell_type": "code",
   "execution_count": 12,
   "id": "e20638cc-7e55-4f12-9e58-124965ec398d",
   "metadata": {},
   "outputs": [
    {
     "name": "stdout",
     "output_type": "stream",
     "text": [
      "1\n",
      "2\n",
      "Fizz\n",
      "4\n",
      "Buzz\n",
      "Fizz\n",
      "7\n",
      "8\n",
      "Fizz\n",
      "Buzz\n",
      "11\n",
      "Fizz\n",
      "13\n",
      "14\n",
      "FizzBuzz\n",
      "16\n",
      "17\n",
      "Fizz\n",
      "19\n",
      "Buzz\n",
      "Fizz\n",
      "22\n",
      "23\n",
      "Fizz\n",
      "Buzz\n",
      "26\n",
      "Fizz\n",
      "28\n",
      "29\n",
      "FizzBuzz\n",
      "31\n",
      "32\n",
      "Fizz\n",
      "34\n",
      "Buzz\n",
      "Fizz\n",
      "37\n",
      "38\n",
      "Fizz\n",
      "Buzz\n",
      "41\n",
      "Fizz\n",
      "43\n",
      "44\n",
      "FizzBuzz\n",
      "46\n",
      "47\n",
      "Fizz\n",
      "49\n",
      "Buzz\n",
      "Fizz\n",
      "52\n",
      "53\n",
      "Fizz\n",
      "Buzz\n",
      "56\n",
      "Fizz\n",
      "58\n",
      "59\n",
      "FizzBuzz\n",
      "61\n",
      "62\n",
      "Fizz\n",
      "64\n",
      "Buzz\n",
      "Fizz\n",
      "67\n",
      "68\n",
      "Fizz\n",
      "Buzz\n",
      "71\n",
      "Fizz\n",
      "73\n",
      "74\n",
      "FizzBuzz\n",
      "76\n",
      "77\n",
      "Fizz\n",
      "79\n",
      "Buzz\n",
      "Fizz\n",
      "82\n",
      "83\n",
      "Fizz\n",
      "Buzz\n",
      "86\n",
      "Fizz\n",
      "88\n",
      "89\n",
      "FizzBuzz\n",
      "91\n",
      "92\n",
      "Fizz\n",
      "94\n",
      "Buzz\n",
      "Fizz\n",
      "97\n",
      "98\n",
      "Fizz\n",
      "Buzz\n"
     ]
    }
   ],
   "source": [
    "for i in range(1, 101):\n",
    "    if i % 3 == 0 and i % 5 == 0:\n",
    "        print(\"FizzBuzz\")\n",
    "\n",
    "    elif i % 3 == 0:\n",
    "        print(\"Fizz\")\n",
    "\n",
    "    elif i % 5 == 0:\n",
    "        print(\"Buzz\")\n",
    "    else:\n",
    "        print(i)"
   ]
  },
  {
   "cell_type": "code",
   "execution_count": 14,
   "id": "b9ae53ab-c8ef-45c3-a8db-71bcf96448c2",
   "metadata": {},
   "outputs": [
    {
     "name": "stdout",
     "output_type": "stream",
     "text": [
      "1\n",
      "2\n",
      "Fizz\n",
      "4\n",
      "Buzz\n",
      "Fizz\n",
      "7\n",
      "8\n",
      "Fizz\n",
      "Buzz\n",
      "11\n",
      "Fizz\n",
      "13\n",
      "14\n",
      "FizzBuzz\n",
      "16\n",
      "17\n",
      "Fizz\n",
      "19\n",
      "Buzz\n",
      "Fizz\n",
      "22\n",
      "23\n",
      "Fizz\n",
      "Buzz\n",
      "26\n",
      "Fizz\n",
      "28\n",
      "29\n",
      "FizzBuzz\n",
      "31\n",
      "32\n",
      "Fizz\n",
      "34\n",
      "Buzz\n",
      "Fizz\n",
      "37\n",
      "38\n",
      "Fizz\n",
      "Buzz\n",
      "41\n",
      "Fizz\n",
      "43\n",
      "44\n",
      "FizzBuzz\n",
      "46\n",
      "47\n",
      "Fizz\n",
      "49\n",
      "Buzz\n",
      "Fizz\n",
      "52\n",
      "53\n",
      "Fizz\n",
      "Buzz\n",
      "56\n",
      "Fizz\n",
      "58\n",
      "59\n",
      "FizzBuzz\n",
      "61\n",
      "62\n",
      "Fizz\n",
      "64\n",
      "Buzz\n",
      "Fizz\n",
      "67\n",
      "68\n",
      "Fizz\n",
      "Buzz\n",
      "71\n",
      "Fizz\n",
      "73\n",
      "74\n",
      "FizzBuzz\n",
      "76\n",
      "77\n",
      "Fizz\n",
      "79\n",
      "Buzz\n",
      "Fizz\n",
      "82\n",
      "83\n",
      "Fizz\n",
      "Buzz\n",
      "86\n",
      "Fizz\n",
      "88\n",
      "89\n",
      "FizzBuzz\n",
      "91\n",
      "92\n",
      "Fizz\n",
      "94\n",
      "Buzz\n",
      "Fizz\n",
      "97\n",
      "98\n",
      "Fizz\n",
      "Buzz\n"
     ]
    }
   ],
   "source": [
    "for i in range(1, 101):\n",
    "    if i % 3 == 0 and i % 5 == 0:  # Check for multiples of both 3 and 5 first\n",
    "        print(\"FizzBuzz\")\n",
    "    elif i % 3 == 0:  # Check for multiples of 3\n",
    "        print(\"Fizz\")\n",
    "    elif i % 5 == 0:  # Check for multiples of 5\n",
    "        print(\"Buzz\")\n",
    "    else:  # Print the number if none of the above conditions are true\n",
    "        print(i)\n"
   ]
  },
  {
   "cell_type": "code",
   "execution_count": null,
   "id": "28a51751-8b5f-4110-98a5-c645372bd647",
   "metadata": {},
   "outputs": [],
   "source": []
  },
  {
   "cell_type": "markdown",
   "id": "92c2b46d-8ae6-4def-9e56-181e5c753783",
   "metadata": {},
   "source": [
    "### More challenges"
   ]
  },
  {
   "cell_type": "markdown",
   "id": "8a71987d-90cb-4897-a874-21cc40d2eb4b",
   "metadata": {},
   "source": [
    "1. Reverse a String\n",
    "Write a function to reverse a given string.\n",
    "\n",
    "Example Input:\n",
    "\"hello\"\n",
    "\n",
    "Example Output:\n",
    "\"olleh\""
   ]
  },
  {
   "cell_type": "code",
   "execution_count": 18,
   "id": "36f691fc-801e-47ed-9e13-36ed68fb1a42",
   "metadata": {},
   "outputs": [
    {
     "name": "stdout",
     "output_type": "stream",
     "text": [
      "olleH\n"
     ]
    }
   ],
   "source": [
    "def reverse_string(s):\n",
    "    return s[::-1]\n",
    "\n",
    "print(reverse_string(\"Hello\"))\n"
   ]
  },
  {
   "cell_type": "code",
   "execution_count": 20,
   "id": "193a02ba-6159-4941-ad23-5d0e9ff2196f",
   "metadata": {},
   "outputs": [
    {
     "name": "stdout",
     "output_type": "stream",
     "text": [
      "iH\n"
     ]
    }
   ],
   "source": [
    "print(reverse_string(\"Hi\"))"
   ]
  },
  {
   "cell_type": "markdown",
   "id": "0c3ae459-1fa1-451d-bc68-dbe387df225c",
   "metadata": {},
   "source": [
    "2. Palindrome Checker\n",
    "Write a program to check if a given string is a palindrome (reads the same forward and backward).\n",
    "\n",
    "Example Input:\n",
    "\"racecar\"\n",
    "\n",
    "Example Output:\n",
    "True"
   ]
  },
  {
   "cell_type": "code",
   "execution_count": 26,
   "id": "ecc6b8ee-4e12-4caf-8e69-cf45cfff6c11",
   "metadata": {},
   "outputs": [
    {
     "name": "stdout",
     "output_type": "stream",
     "text": [
      "True\n",
      "False\n"
     ]
    }
   ],
   "source": [
    "def is_palindrome(s):\n",
    "  return s == s[::-1]\n",
    "print(is_palindrome(\"racecar\"))\n",
    "print(is_palindrome(\"hello\"))"
   ]
  },
  {
   "cell_type": "markdown",
   "id": "d9f30b3d-7c4b-4684-832b-b272c39025d5",
   "metadata": {},
   "source": [
    "3. Sum of Multiples\n",
    "Find the sum of all numbers less than a given number n that are multiples of 3 or 5.\n",
    "\n",
    "Example Input:\n",
    "n = 10\n",
    "\n",
    "Example Output:\n",
    "23 (Multiples are 3, 5, 6, 9. Sum = 23)"
   ]
  },
  {
   "cell_type": "code",
   "execution_count": 29,
   "id": "c5158c27-ab0b-417e-a33e-9c7208bf0202",
   "metadata": {},
   "outputs": [
    {
     "name": "stdout",
     "output_type": "stream",
     "text": [
      "23\n"
     ]
    }
   ],
   "source": [
    "def sum_of_multiples(n):\n",
    "    return sum(i for i in range(n) if i % 3 == 0 or i % 5 == 0)\n",
    "\n",
    "print(sum_of_multiples(10))  # 23\n",
    "\n"
   ]
  },
  {
   "cell_type": "markdown",
   "id": "3b7e61e9-f146-466e-aa53-7b2f34c3a536",
   "metadata": {},
   "source": [
    "4. Find Prime Numbers\n",
    "Write a program to find all prime numbers up to a given number n.\n",
    "\n",
    "Example Input:\n",
    "n = 10\n",
    "\n",
    "Example Output:\n",
    "[2, 3, 5, 7]"
   ]
  },
  {
   "cell_type": "code",
   "execution_count": 1,
   "id": "6ecdedad-283d-4111-bfdf-d11e0488f10f",
   "metadata": {},
   "outputs": [
    {
     "name": "stdout",
     "output_type": "stream",
     "text": [
      "[2, 3, 5, 7]\n"
     ]
    }
   ],
   "source": [
    "def is_prime(num):\n",
    "    if num < 2:\n",
    "        return False\n",
    "    for i in range(2, int(num ** 0.5) + 1):\n",
    "        if num % i == 0:\n",
    "            return False\n",
    "    return True\n",
    "\n",
    "def find_primes(n):\n",
    "    return [i for i in range(2, n+1) if is_prime(i)]\n",
    "\n",
    "print(find_primes(10))  # [2, 3, 5, 7]\n"
   ]
  },
  {
   "cell_type": "code",
   "execution_count": null,
   "id": "e69e37fa-e8a8-4815-9cd0-91a7d535bf2b",
   "metadata": {},
   "outputs": [],
   "source": []
  }
 ],
 "metadata": {
  "kernelspec": {
   "display_name": "Python 3 (ipykernel)",
   "language": "python",
   "name": "python3"
  },
  "language_info": {
   "codemirror_mode": {
    "name": "ipython",
    "version": 3
   },
   "file_extension": ".py",
   "mimetype": "text/x-python",
   "name": "python",
   "nbconvert_exporter": "python",
   "pygments_lexer": "ipython3",
   "version": "3.12.4"
  }
 },
 "nbformat": 4,
 "nbformat_minor": 5
}
